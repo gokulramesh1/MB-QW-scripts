{
 "cells": [
  {
   "cell_type": "code",
   "execution_count": 2,
   "metadata": {},
   "outputs": [],
   "source": [
    "from bs4 import BeautifulSoup\n",
    "import requests\n",
    "from googlesearch import search\n",
    "import pandas as pd\n",
    "import time\n",
    "from openpyxl import load_workbook"
   ]
  },
  {
   "cell_type": "code",
   "execution_count": 3,
   "metadata": {},
   "outputs": [],
   "source": [
    "def check_imdb(url):\n",
    "    while True:\n",
    "        try:\n",
    "            source = requests.get(url).text\n",
    "            soup = BeautifulSoup(source, 'lxml')\n",
    "            if soup.find('a', class_=\"quicklink quicklinkGray\", text='TRIVIA'):\n",
    "                return False\n",
    "            else:\n",
    "                return True\n",
    "        except:\n",
    "            time.sleep(20)\n",
    "            continue"
   ]
  },
  {
   "cell_type": "code",
   "execution_count": 4,
   "metadata": {},
   "outputs": [],
   "source": [
    "def check_wiki(url):\n",
    "    while True:\n",
    "        try:\n",
    "            source = requests.get(url).text\n",
    "            soup = BeautifulSoup(source, 'lxml')\n",
    "            a = ''.join([para.text for para in soup.find_all('p', class_=None, limit=2)])\n",
    "            words = ['remake', 'adapt', 'inspired', 'based', 'award']\n",
    "            for word in words:\n",
    "                if word in a.lower():\n",
    "                    return True\n",
    "            return False\n",
    "        except:\n",
    "            time.sleep(20)\n",
    "            continue"
   ]
  },
  {
   "cell_type": "code",
   "execution_count": 5,
   "metadata": {},
   "outputs": [],
   "source": [
    "def first(lst):\n",
    "    if lst:\n",
    "        return lst[0]\n",
    "    else:\n",
    "        return"
   ]
  },
  {
   "cell_type": "code",
   "execution_count": 6,
   "metadata": {},
   "outputs": [],
   "source": [
    "def get_status(query):\n",
    "    imdb = []\n",
    "    wiki = []\n",
    "    while True:\n",
    "        try:\n",
    "            for url in search(query, stop=5, pause=2, only_standard=True):\n",
    "                if 'imdb' in url:\n",
    "                    imdb.append(url)\n",
    "                elif 'wikipedia' in url:\n",
    "                    wiki.append(url)\n",
    "            break\n",
    "        except:\n",
    "            time.sleep(20)\n",
    "            continue\n",
    "    imdb = first(imdb)\n",
    "    wiki = first(wiki)\n",
    "    if imdb:\n",
    "        if check_imdb(imdb):\n",
    "            return\n",
    "    if wiki:\n",
    "        if check_wiki(wiki):\n",
    "            return\n",
    "    return 'Not found' "
   ]
  },
  {
   "cell_type": "code",
   "execution_count": 11,
   "metadata": {},
   "outputs": [],
   "source": [
    "wb = load_workbook(\"C:\\Dataframes\\Trivia.xlsx\")\n",
    "ws = wb['Sheet1']\n",
    "for i in range(25001, 28572):\n",
    "    query = ws['E' + str(i)].value\n",
    "    ws['F'+str(i)].value = get_status(query)\n",
    "wb.save(\"C:\\Dataframes\\Trivia.xlsx\")"
   ]
  },
  {
   "cell_type": "code",
   "execution_count": 8,
   "metadata": {},
   "outputs": [],
   "source": []
  },
  {
   "cell_type": "code",
   "execution_count": null,
   "metadata": {},
   "outputs": [],
   "source": []
  },
  {
   "cell_type": "code",
   "execution_count": null,
   "metadata": {},
   "outputs": [],
   "source": []
  }
 ],
 "metadata": {
  "kernelspec": {
   "display_name": "Python 3",
   "language": "python",
   "name": "python3"
  },
  "language_info": {
   "codemirror_mode": {
    "name": "ipython",
    "version": 3
   },
   "file_extension": ".py",
   "mimetype": "text/x-python",
   "name": "python",
   "nbconvert_exporter": "python",
   "pygments_lexer": "ipython3",
   "version": "3.7.3"
  }
 },
 "nbformat": 4,
 "nbformat_minor": 2
}
