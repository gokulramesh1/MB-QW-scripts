{
 "cells": [
  {
   "cell_type": "code",
   "execution_count": 1,
   "metadata": {},
   "outputs": [],
   "source": [
    "import requests\n",
    "from bs4 import BeautifulSoup\n",
    "from random import choice\n",
    "import pandas as pd"
   ]
  },
  {
   "cell_type": "code",
   "execution_count": 2,
   "metadata": {},
   "outputs": [],
   "source": [
    "def get_proxy():\n",
    "    url = \"https://www.sslproxies.org/\"\n",
    "    r = requests.get(url)\n",
    "    soup = BeautifulSoup(r.content, 'lxml')\n",
    "    return {'https': choice(list(map(lambda x:x[0] + ':' + x[1], list(zip(map(lambda x: x.text, soup.findAll('td')[::8]), map(lambda x: x.text, soup.findAll('td')[1::8]))))))}"
   ]
  },
  {
   "cell_type": "code",
   "execution_count": 3,
   "metadata": {},
   "outputs": [],
   "source": [
    "def proxy_request(url, **kwargs):\n",
    "    while True:\n",
    "        try:\n",
    "            proxy = get_proxy()\n",
    "            r = requests.get(url, proxies=proxy, timeout=5, **kwargs)\n",
    "            if len(r.text) < 200:\n",
    "                continue\n",
    "            break\n",
    "        except:\n",
    "            pass\n",
    "    return r"
   ]
  },
  {
   "cell_type": "code",
   "execution_count": 4,
   "metadata": {},
   "outputs": [],
   "source": [
    "def get_info(url):\n",
    "    \n",
    "    r = proxy_request(url)\n",
    "    soup = BeautifulSoup(r.text, 'lxml')\n",
    "    \n",
    "    address = soup.find(class_=\"tab-pane\").text.split('Check on Google Maps')[0].replace(\"\\n\", \"\").strip()\n",
    "    phone = soup.find(class_=\"tab-pane\").text.split('Check on Google Maps')[1].replace(\"\\n\", \"\").strip()\n",
    "    coordinates = soup.find('span', text = 'Check on Google Maps').parent.get('href').split('=')[1]\n",
    "    \n",
    "    return [address, phone, coordinates]\n",
    "    "
   ]
  },
  {
   "cell_type": "code",
   "execution_count": null,
   "metadata": {},
   "outputs": [],
   "source": [
    "df = pd.read_excel(\"C:\\Dataframes\\Regal Cinemas.xlsx\")\n",
    "\n",
    "for i in range(500, 557):\n",
    "    try:\n",
    "        info = get_info(df['Link'][i])\n",
    "        df['Address'][i] = info[0]\n",
    "        df['Phone'][i] = info[1]\n",
    "        df['Lat,Lng'][i] = info[2]\n",
    "        print('Current progress: ' + str(i))\n",
    "    except:\n",
    "        print(\"Error at \" + str(i))\n",
    "        continue\n",
    "\n",
    "df.to_excel(\"C:\\Dataframes\\Regal Cinemas.xlsx\", index=False)"
   ]
  },
  {
   "cell_type": "code",
   "execution_count": null,
   "metadata": {},
   "outputs": [],
   "source": []
  },
  {
   "cell_type": "code",
   "execution_count": null,
   "metadata": {},
   "outputs": [],
   "source": []
  },
  {
   "cell_type": "code",
   "execution_count": null,
   "metadata": {},
   "outputs": [],
   "source": []
  },
  {
   "cell_type": "code",
   "execution_count": null,
   "metadata": {},
   "outputs": [],
   "source": []
  },
  {
   "cell_type": "code",
   "execution_count": null,
   "metadata": {},
   "outputs": [],
   "source": []
  },
  {
   "cell_type": "code",
   "execution_count": null,
   "metadata": {},
   "outputs": [],
   "source": []
  },
  {
   "cell_type": "code",
   "execution_count": null,
   "metadata": {},
   "outputs": [],
   "source": []
  }
 ],
 "metadata": {
  "kernelspec": {
   "display_name": "Python 3",
   "language": "python",
   "name": "python3"
  },
  "language_info": {
   "codemirror_mode": {
    "name": "ipython",
    "version": 3
   },
   "file_extension": ".py",
   "mimetype": "text/x-python",
   "name": "python",
   "nbconvert_exporter": "python",
   "pygments_lexer": "ipython3",
   "version": "3.7.3"
  }
 },
 "nbformat": 4,
 "nbformat_minor": 2
}
