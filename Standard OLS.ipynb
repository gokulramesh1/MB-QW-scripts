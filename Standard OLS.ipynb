{
 "cells": [
  {
   "cell_type": "code",
   "execution_count": 55,
   "metadata": {
    "scrolled": true
   },
   "outputs": [],
   "source": [
    "from bs4 import BeautifulSoup\n",
    "import requests"
   ]
  },
  {
   "cell_type": "code",
   "execution_count": 56,
   "metadata": {},
   "outputs": [],
   "source": [
    "url = requests.get(\"https://www.imdb.com/title/tt0073707/\")\n",
    "soup = BeautifulSoup(url.text, 'lxml')"
   ]
  },
  {
   "cell_type": "code",
   "execution_count": 57,
   "metadata": {},
   "outputs": [],
   "source": [
    "genre = soup.find(class_=\"subtext\").find('a')\n",
    "if not genre or any(char.isdigit() for char in genre.text):\n",
    "    genre = 'drama'\n",
    "else:\n",
    "    genre = genre.text.lower() "
   ]
  },
  {
   "cell_type": "code",
   "execution_count": 58,
   "metadata": {},
   "outputs": [],
   "source": [
    "director = soup.find(text=\"Director:\").findNext('a')\n",
    "if director:\n",
    "    director = director.text"
   ]
  },
  {
   "cell_type": "code",
   "execution_count": 59,
   "metadata": {},
   "outputs": [],
   "source": [
    "cast = soup.find('h4', text='Stars:')\n",
    "if cast:\n",
    "    cast = cast.parent.text"
   ]
  },
  {
   "cell_type": "code",
   "execution_count": 60,
   "metadata": {},
   "outputs": [],
   "source": [
    "cast = cast.split('|')[0].split(':')[-1].strip().split(',')\n",
    "cast = [person.strip() for person in cast]"
   ]
  },
  {
   "cell_type": "code",
   "execution_count": 61,
   "metadata": {},
   "outputs": [],
   "source": [
    "if len(cast) > 1:\n",
    "    cast[-1] = 'and ' + cast[-1]\n",
    "    cast = ', '.join(cast)"
   ]
  },
  {
   "cell_type": "code",
   "execution_count": 62,
   "metadata": {},
   "outputs": [],
   "source": [
    "first = 'a/an'\n",
    "if genre[0] in 'aeiou':\n",
    "    first = 'An'\n",
    "else:\n",
    "    first = 'A' "
   ]
  },
  {
   "cell_type": "code",
   "execution_count": 63,
   "metadata": {},
   "outputs": [
    {
     "name": "stdout",
     "output_type": "stream",
     "text": [
      "An action film directed by Ramesh Sippy with Sanjeev Kumar, Dharmendra, and Amitabh Bachchan in the lead roles.\n"
     ]
    }
   ],
   "source": [
    "if cast:\n",
    "    print(first, genre, 'film directed by', director, 'with', cast, 'in the lead roles.')\n",
    "else:\n",
    "    print(first, genre, 'film directed by', director + '.')"
   ]
  },
  {
   "cell_type": "code",
   "execution_count": null,
   "metadata": {},
   "outputs": [],
   "source": []
  }
 ],
 "metadata": {
  "kernelspec": {
   "display_name": "Python 3",
   "language": "python",
   "name": "python3"
  },
  "language_info": {
   "codemirror_mode": {
    "name": "ipython",
    "version": 3
   },
   "file_extension": ".py",
   "mimetype": "text/x-python",
   "name": "python",
   "nbconvert_exporter": "python",
   "pygments_lexer": "ipython3",
   "version": "3.7.3"
  }
 },
 "nbformat": 4,
 "nbformat_minor": 2
}
