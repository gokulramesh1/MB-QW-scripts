{
 "cells": [
  {
   "cell_type": "code",
   "execution_count": 1,
   "metadata": {},
   "outputs": [],
   "source": [
    "import pandas as pd\n",
    "from googlesearch import search\n",
    "from bs4 import BeautifulSoup\n",
    "import requests\n",
    "import time"
   ]
  },
  {
   "cell_type": "code",
   "execution_count": 2,
   "metadata": {},
   "outputs": [],
   "source": [
    "def get_info(query):\n",
    "    \n",
    "    imdb = None\n",
    "    \n",
    "    while True:\n",
    "        try:\n",
    "            for url in search(query, stop=5, pause=2, only_standard=True):\n",
    "                if 'www.imdb.com' in url:\n",
    "                    imdb = url\n",
    "                    break        \n",
    "            if imdb:\n",
    "                source = requests.get(imdb)\n",
    "                soup = BeautifulSoup(source.text, 'lxml')\n",
    "                break\n",
    "            else:\n",
    "                return \n",
    "        except:    \n",
    "            time.sleep(20)\n",
    "            continue\n",
    "        \n",
    "    \n",
    "    lang = soup.find('h4', text='Language:')\n",
    "    if lang:\n",
    "        lang = lang.findNext('a').text\n",
    "\n",
    "    director = soup.find('h4', text='Director:')\n",
    "    if director:\n",
    "        director = director.findNext('a').text\n",
    "    else:\n",
    "        director = soup.find('h4', text='Directors:')\n",
    "        if director:\n",
    "            director = director.parent.text\n",
    "            director = director.split(':')[-1].strip()\n",
    "\n",
    "    cast = soup.find('h4', text='Stars:')\n",
    "    if cast:\n",
    "        cast = cast.parent.text\n",
    "        cast = cast.split('|')[0].split(':')[-1].strip()\n",
    "\n",
    "    date = soup.find(title=\"See more release dates\")\n",
    "    if date:\n",
    "        date = date.text.strip()\n",
    "\n",
    "    country = soup.find('h4', text='Country:')\n",
    "    if country:\n",
    "        country = country.parent.text\n",
    "        country = ', '.join([a.strip() for a in country.split(':')[-1].split('|')])\n",
    "\n",
    "    runtime = soup.find('time')\n",
    "    if runtime:\n",
    "        runtime = runtime.text.strip()\n",
    "    \n",
    "    return [lang, director, cast, date, country, runtime]"
   ]
  },
  {
   "cell_type": "code",
   "execution_count": null,
   "metadata": {},
   "outputs": [],
   "source": [
    "df = pd.read_excel(\"C:\\Dataframes\\EIDR.xlsx\")\n",
    "for i in range(38000, 38145):\n",
    "    print(\"Progress: \" + str(i))\n",
    "    try:\n",
    "        info = get_info(df['Query'][i])\n",
    "        df['Original Language'][i] = info[0]\n",
    "        df['Director'][i] = info[1]\n",
    "        df['Actors'][i] = info[2]\n",
    "        df['Release Date'][i] = info[3]\n",
    "        df['Country Of Origin'][i] = info[4]\n",
    "        df['Running Time'][i] = info[5]\n",
    "    except:\n",
    "        continue\n",
    "\n",
    "df.to_excel(\"C:\\Dataframes\\EIDR.xlsx\", index=False)"
   ]
  },
  {
   "cell_type": "code",
   "execution_count": null,
   "metadata": {},
   "outputs": [],
   "source": []
  },
  {
   "cell_type": "code",
   "execution_count": null,
   "metadata": {},
   "outputs": [],
   "source": []
  },
  {
   "cell_type": "code",
   "execution_count": null,
   "metadata": {},
   "outputs": [],
   "source": []
  }
 ],
 "metadata": {
  "kernelspec": {
   "display_name": "Python 3",
   "language": "python",
   "name": "python3"
  },
  "language_info": {
   "codemirror_mode": {
    "name": "ipython",
    "version": 3
   },
   "file_extension": ".py",
   "mimetype": "text/x-python",
   "name": "python",
   "nbconvert_exporter": "python",
   "pygments_lexer": "ipython3",
   "version": "3.7.3"
  }
 },
 "nbformat": 4,
 "nbformat_minor": 2
}
